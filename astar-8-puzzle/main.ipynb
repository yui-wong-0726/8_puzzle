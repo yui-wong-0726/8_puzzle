{
 "cells": [
  {
   "cell_type": "code",
   "execution_count": 1,
   "metadata": {},
   "outputs": [
    {
     "name": "stdout",
     "output_type": "stream",
     "text": [
      "[1 2 3]\n",
      "[8 0 4]\n",
      "[7 6 5]\n",
      "\n"
     ]
    }
   ],
   "source": [
    "import numpy as np\n",
    "from algorithms import *\n",
    "# set goal state\n",
    "goal_state = [[1,2,3], [8,0,4], [7,6,5]]    # 0 for 'empty'\n",
    "goal_state = State(goal_state)\n",
    "print(goal_state)"
   ]
  },
  {
   "cell_type": "code",
   "execution_count": 2,
   "metadata": {},
   "outputs": [
    {
     "name": "stdout",
     "output_type": "stream",
     "text": [
      "[0 2 5]\n",
      "[3 6 1]\n",
      "[8 7 4]\n",
      "\n"
     ]
    }
   ],
   "source": [
    "# random start state\n",
    "import numpy as np\n",
    "start_state = np.arange(9)\n",
    "np.random.shuffle(start_state)\n",
    "start_state = State(start_state.reshape(3,3))\n",
    "print(start_state)"
   ]
  },
  {
   "cell_type": "code",
   "execution_count": 3,
   "metadata": {},
   "outputs": [
    {
     "name": "stdout",
     "output_type": "stream",
     "text": [
      "Found path in 19 steps\n"
     ]
    },
    {
     "data": {
      "text/plain": [
       "[[1 2 3]\n",
       " [8 4 5]\n",
       " [7 0 6],\n",
       " [1 2 3]\n",
       " [8 4 5]\n",
       " [7 6 0],\n",
       " [1 2 3]\n",
       " [8 4 0]\n",
       " [7 6 5],\n",
       " [1 2 3]\n",
       " [8 0 4]\n",
       " [7 6 5]]"
      ]
     },
     "execution_count": 3,
     "metadata": {},
     "output_type": "execute_result"
    }
   ],
   "source": [
    "bfs(State([[1,2,3],[8,4,5],[7,0,6]]), goal_state)"
   ]
  },
  {
   "cell_type": "code",
   "execution_count": 4,
   "metadata": {},
   "outputs": [
    {
     "name": "stdout",
     "output_type": "stream",
     "text": [
      "Found path in 19 steps\n"
     ]
    },
    {
     "data": {
      "text/plain": [
       "[[1 2 3]\n",
       " [8 4 5]\n",
       " [7 0 6],\n",
       " [1 2 3]\n",
       " [8 4 5]\n",
       " [7 6 0],\n",
       " [1 2 3]\n",
       " [8 4 0]\n",
       " [7 6 5],\n",
       " [1 2 3]\n",
       " [8 0 4]\n",
       " [7 6 5]]"
      ]
     },
     "execution_count": 4,
     "metadata": {},
     "output_type": "execute_result"
    }
   ],
   "source": [
    "ucs(State([[1,2,3],[8,4,5],[7,0,6]]), goal_state)"
   ]
  },
  {
   "cell_type": "code",
   "execution_count": 5,
   "metadata": {},
   "outputs": [
    {
     "name": "stdout",
     "output_type": "stream",
     "text": [
      "Found path in 5 steps\n"
     ]
    },
    {
     "data": {
      "text/plain": [
       "[[1 2 3]\n",
       " [8 4 5]\n",
       " [7 0 6],\n",
       " [1 2 3]\n",
       " [8 4 5]\n",
       " [7 6 0],\n",
       " [1 2 3]\n",
       " [8 4 0]\n",
       " [7 6 5],\n",
       " [1 2 3]\n",
       " [8 0 4]\n",
       " [7 6 5]]"
      ]
     },
     "execution_count": 5,
     "metadata": {},
     "output_type": "execute_result"
    }
   ],
   "source": [
    "heuristic_available = [\"Hamming\", \"Manhatten\", \"Permutation Inversion\", \"non-admissible\"]\n",
    "astar(State([[1,2,3],[8,4,5],[7,0,6]]), goal_state, heuristic_available[0])"
   ]
  },
  {
   "cell_type": "code",
   "execution_count": 6,
   "metadata": {},
   "outputs": [
    {
     "name": "stdout",
     "output_type": "stream",
     "text": [
      "Found path in 19 steps\n"
     ]
    },
    {
     "data": {
      "text/plain": [
       "[[1 2 3]\n",
       " [8 4 5]\n",
       " [7 0 6],\n",
       " [1 2 3]\n",
       " [8 4 5]\n",
       " [7 6 0],\n",
       " [1 2 3]\n",
       " [8 4 0]\n",
       " [7 6 5],\n",
       " [1 2 3]\n",
       " [8 0 4]\n",
       " [7 6 5]]"
      ]
     },
     "execution_count": 6,
     "metadata": {},
     "output_type": "execute_result"
    }
   ],
   "source": [
    "astar(State([[1,2,3],[8,4,5],[7,0,6]]), goal_state, heuristic_available[1])"
   ]
  },
  {
   "cell_type": "code",
   "execution_count": 7,
   "metadata": {},
   "outputs": [
    {
     "name": "stdout",
     "output_type": "stream",
     "text": [
      "Found path in 6 steps\n"
     ]
    },
    {
     "data": {
      "text/plain": [
       "[[1 2 3]\n",
       " [8 4 5]\n",
       " [7 0 6],\n",
       " [1 2 3]\n",
       " [8 4 5]\n",
       " [7 6 0],\n",
       " [1 2 3]\n",
       " [8 4 0]\n",
       " [7 6 5],\n",
       " [1 2 3]\n",
       " [8 0 4]\n",
       " [7 6 5]]"
      ]
     },
     "execution_count": 7,
     "metadata": {},
     "output_type": "execute_result"
    }
   ],
   "source": [
    "astar(State([[1,2,3],[8,4,5],[7,0,6]]), goal_state, heuristic_available[2])"
   ]
  },
  {
   "cell_type": "code",
   "execution_count": 6,
   "metadata": {},
   "outputs": [
    {
     "ename": "NameError",
     "evalue": "name 'astar' is not defined",
     "output_type": "error",
     "traceback": [
      "\u001b[1;31m---------------------------------------------------------------------------\u001b[0m",
      "\u001b[1;31mNameError\u001b[0m                                 Traceback (most recent call last)",
      "\u001b[1;32mc:\\Users\\Default.DESKTOP-Q9TRNCC\\Desktop\\astar-8-puzzle\\astar-8-puzzle\\main.ipynb Cell 8'\u001b[0m in \u001b[0;36m<cell line: 1>\u001b[1;34m()\u001b[0m\n\u001b[1;32m----> <a href='vscode-notebook-cell:/c%3A/Users/Default.DESKTOP-Q9TRNCC/Desktop/astar-8-puzzle/astar-8-puzzle/main.ipynb#ch0000007?line=0'>1</a>\u001b[0m astar(State([[\u001b[39m1\u001b[39m,\u001b[39m2\u001b[39m,\u001b[39m3\u001b[39m],[\u001b[39m8\u001b[39m,\u001b[39m4\u001b[39m,\u001b[39m5\u001b[39m],[\u001b[39m7\u001b[39m,\u001b[39m0\u001b[39m,\u001b[39m6\u001b[39m]]), goal_state, heuristic_available[\u001b[39m3\u001b[39m])\n",
      "\u001b[1;31mNameError\u001b[0m: name 'astar' is not defined"
     ]
    }
   ],
   "source": [
    "astar(State([[1,2,3],[8,4,5],[7,0,6]]), goal_state, heuristic_available[3])"
   ]
  },
  {
   "cell_type": "markdown",
   "metadata": {},
   "source": [
    "从上面non-admissible的结果来看，483steps，明显不是最优的。"
   ]
  },
  {
   "cell_type": "code",
   "execution_count": 9,
   "metadata": {},
   "outputs": [
    {
     "name": "stdout",
     "output_type": "stream",
     "text": [
      "1 2\n",
      "1 3\n",
      "1 8\n",
      "1 0\n",
      "1 4\n",
      "1 7\n",
      "1 6\n",
      "1 5\n",
      "2 3\n",
      "2 8\n",
      "2 0\n",
      "2 4\n",
      "2 7\n",
      "2 6\n",
      "2 5\n",
      "3 8\n",
      "3 0\n",
      "3 4\n",
      "3 7\n",
      "3 6\n",
      "3 5\n",
      "8 0\n",
      "8 4\n",
      "8 7\n",
      "8 6\n",
      "8 5\n",
      "0 4\n",
      "0 7\n",
      "0 6\n",
      "0 5\n",
      "4 7\n",
      "4 6\n",
      "4 5\n",
      "7 6\n",
      "7 5\n",
      "6 5\n"
     ]
    }
   ],
   "source": [
    "from itertools import combinations\n",
    "for i, j in combinations(goal_state.array.reshape(9), 2):\n",
    "    print(i, j)"
   ]
  }
 ],
 "metadata": {
  "interpreter": {
   "hash": "f1f75ece2fe9e9de873c5d647bb1f5109f5ef9b189f862a95b6edcecf4f3ee9b"
  },
  "kernelspec": {
   "display_name": "Python 3.8.5 ('base')",
   "language": "python",
   "name": "python3"
  },
  "language_info": {
   "codemirror_mode": {
    "name": "ipython",
    "version": 3
   },
   "file_extension": ".py",
   "mimetype": "text/x-python",
   "name": "python",
   "nbconvert_exporter": "python",
   "pygments_lexer": "ipython3",
   "version": "3.10.1"
  },
  "orig_nbformat": 4
 },
 "nbformat": 4,
 "nbformat_minor": 2
}
